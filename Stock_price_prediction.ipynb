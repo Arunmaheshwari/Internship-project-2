{
 "cells": [
  {
   "cell_type": "code",
   "execution_count": 1,
   "id": "48a753df-2d34-464e-accf-98897cf7662d",
   "metadata": {},
   "outputs": [],
   "source": [
    "import numpy as np\n",
    "import pandas as pd\n",
    "from sklearn.preprocessing import MinMaxScaler\n",
    "from keras.models import Sequential\n",
    "from keras.layers import LSTM, Dense"
   ]
  },
  {
   "cell_type": "code",
   "execution_count": 2,
   "id": "f70330e9-bf43-4b6e-bbdb-15ff3e293177",
   "metadata": {},
   "outputs": [],
   "source": [
    "# Load historical stock price data\n",
    "# For this example, I'll use the historical stock prices of Apple Inc. (AAPL)"
   ]
  },
  {
   "cell_type": "code",
   "execution_count": 3,
   "id": "413c13e5-ab14-4b25-a036-4d3feb30914c",
   "metadata": {},
   "outputs": [],
   "source": [
    "np.random.seed(42)\n",
    "stock_data = pd.DataFrame({'Close': np.random.rand(2520) * 100}, index=pd.date_range('2010-01-01', periods=2520, freq='B'))\n"
   ]
  },
  {
   "cell_type": "markdown",
   "id": "52429c82-fb5e-4a5c-a531-120e596fc333",
   "metadata": {},
   "source": [
    "# Normalize the data"
   ]
  },
  {
   "cell_type": "code",
   "execution_count": 4,
   "id": "0e18bec0-cb38-4d24-b645-d5da7aebb5df",
   "metadata": {},
   "outputs": [],
   "source": [
    "scaler = MinMaxScaler(feature_range=(0, 1))\n",
    "scaled_data = scaler.fit_transform(stock_data['Close'].values.reshape(-1, 1))\n"
   ]
  },
  {
   "cell_type": "markdown",
   "id": "b5af10d4-827e-408e-af67-1023a877094a",
   "metadata": {},
   "source": [
    "# Prepare the data for LSTM"
   ]
  },
  {
   "cell_type": "code",
   "execution_count": 5,
   "id": "8ab099da-f245-4c3d-95c0-571c2c406698",
   "metadata": {},
   "outputs": [],
   "source": [
    "def create_dataset(dataset, time_steps=1):\n",
    "    dataX, dataY = [], []\n",
    "    for i in range(len(dataset) - time_steps):\n",
    "        a = dataset[i:(i + time_steps), 0]\n",
    "        dataX.append(a)\n",
    "        dataY.append(dataset[i + time_steps, 0])\n",
    "    return np.array(dataX), np.array(dataY)\n",
    "\n",
    "time_steps = 60  # You can experiment with different time steps\n",
    "X, y = create_dataset(scaled_data, time_steps)\n"
   ]
  },
  {
   "cell_type": "markdown",
   "id": "64e9ce0e-2e4b-4d70-a7b1-cced408ac6a0",
   "metadata": {},
   "source": [
    "# Reshape input data to fit the LSTM model (samples, time steps, features)"
   ]
  },
  {
   "cell_type": "code",
   "execution_count": 6,
   "id": "7cb74104-890a-47fe-b9b8-a7252f9819cf",
   "metadata": {},
   "outputs": [],
   "source": [
    "X = np.reshape(X, (X.shape[0], X.shape[1], 1))"
   ]
  },
  {
   "cell_type": "markdown",
   "id": "2c1d9cb0-5935-475e-ba79-f3ab9e98762a",
   "metadata": {},
   "source": [
    "# Build the LSTM model"
   ]
  },
  {
   "cell_type": "code",
   "execution_count": 7,
   "id": "e9806ccf-ab07-4ca2-90c4-17cccf078230",
   "metadata": {},
   "outputs": [],
   "source": [
    "model = Sequential()\n",
    "model.add(LSTM(units=50, return_sequences=True, input_shape=(X.shape[1], 1)))\n",
    "model.add(LSTM(units=50, return_sequences=False))\n",
    "model.add(Dense(units=25))\n",
    "model.add(Dense(units=1))\n",
    "\n",
    "model.compile(optimizer='adam', loss='mean_squared_error')"
   ]
  },
  {
   "cell_type": "markdown",
   "id": "289573b5-ffc5-47af-b3f8-34d82c41b5f8",
   "metadata": {},
   "source": [
    "# Train the model"
   ]
  },
  {
   "cell_type": "code",
   "execution_count": 8,
   "id": "417d1554-b929-4df2-8204-cad1da0c608e",
   "metadata": {},
   "outputs": [
    {
     "name": "stdout",
     "output_type": "stream",
     "text": [
      "Epoch 1/10\n",
      "77/77 [==============================] - 10s 56ms/step - loss: 0.0972\n",
      "Epoch 2/10\n",
      "77/77 [==============================] - 4s 55ms/step - loss: 0.0867\n",
      "Epoch 3/10\n",
      "77/77 [==============================] - 4s 55ms/step - loss: 0.0872\n",
      "Epoch 4/10\n",
      "77/77 [==============================] - 4s 55ms/step - loss: 0.0861\n",
      "Epoch 5/10\n",
      "77/77 [==============================] - 4s 57ms/step - loss: 0.0859\n",
      "Epoch 6/10\n",
      "77/77 [==============================] - 4s 56ms/step - loss: 0.0864\n",
      "Epoch 7/10\n",
      "77/77 [==============================] - 4s 56ms/step - loss: 0.0853\n",
      "Epoch 8/10\n",
      "77/77 [==============================] - 4s 57ms/step - loss: 0.0861\n",
      "Epoch 9/10\n",
      "77/77 [==============================] - 4s 56ms/step - loss: 0.0857\n",
      "Epoch 10/10\n",
      "77/77 [==============================] - 4s 57ms/step - loss: 0.0855\n"
     ]
    },
    {
     "data": {
      "text/plain": [
       "<keras.src.callbacks.History at 0x1edb6cb8d50>"
      ]
     },
     "execution_count": 8,
     "metadata": {},
     "output_type": "execute_result"
    }
   ],
   "source": [
    "model.fit(X, y, epochs=10, batch_size=32)"
   ]
  },
  {
   "cell_type": "markdown",
   "id": "b6a67cc2-8395-436d-bda8-db9728e8c38a",
   "metadata": {},
   "source": [
    "# Make predictions\n",
    "# For simplicity, let's predict the next 10 days"
   ]
  },
  {
   "cell_type": "code",
   "execution_count": 10,
   "id": "57091b4f-e3ca-43b6-a8e5-f9027e6048c6",
   "metadata": {},
   "outputs": [
    {
     "name": "stdout",
     "output_type": "stream",
     "text": [
      "1/1 [==============================] - 0s 33ms/step\n",
      "1/1 [==============================] - 0s 31ms/step\n",
      "1/1 [==============================] - 0s 33ms/step\n",
      "1/1 [==============================] - 0s 33ms/step\n",
      "1/1 [==============================] - 0s 32ms/step\n",
      "1/1 [==============================] - 0s 32ms/step\n",
      "1/1 [==============================] - 0s 32ms/step\n",
      "1/1 [==============================] - 0s 32ms/step\n",
      "1/1 [==============================] - 0s 32ms/step\n",
      "1/1 [==============================] - 0s 26ms/step\n"
     ]
    }
   ],
   "source": [
    "future_days = 10\n",
    "last_days = scaled_data[-time_steps:]\n",
    "last_days = np.reshape(last_days, (1, time_steps, 1))\n",
    "\n",
    "predicted_prices = []\n",
    "for i in range(future_days):\n",
    "    predicted_price = model.predict(last_days)\n",
    "    last_days = np.reshape(last_days, (last_days.shape[0], last_days.shape[1]))  # Flatten the array\n",
    "    last_days = np.append(last_days[0, 1:], predicted_price)  # Remove the first element and append the predicted value\n",
    "    last_days = np.reshape(last_days, (1, time_steps, 1))  # Reshape for the next prediction\n",
    "    predicted_prices.append(predicted_price)"
   ]
  },
  {
   "cell_type": "markdown",
   "id": "a903747b-3fad-4151-8f72-d6fcbdaf943c",
   "metadata": {},
   "source": [
    "# Inverse transform the predicted prices to get actual stock prices"
   ]
  },
  {
   "cell_type": "code",
   "execution_count": 11,
   "id": "c0c948d5-7dd2-4899-8732-d9d48e104289",
   "metadata": {},
   "outputs": [],
   "source": [
    "predicted_prices = np.array(predicted_prices).reshape(-1, 1)\n",
    "predicted_prices = scaler.inverse_transform(predicted_prices)"
   ]
  },
  {
   "cell_type": "markdown",
   "id": "5ea8320b-cd86-4929-9d08-e6c2e2be604e",
   "metadata": {},
   "source": [
    "# Display the predicted prices"
   ]
  },
  {
   "cell_type": "code",
   "execution_count": 12,
   "id": "16938252-446a-4c65-b6b7-c4e5271bb7ad",
   "metadata": {},
   "outputs": [
    {
     "name": "stdout",
     "output_type": "stream",
     "text": [
      "[[58.67731 ]\n",
      " [58.73767 ]\n",
      " [58.770565]\n",
      " [58.792774]\n",
      " [58.810444]\n",
      " [58.82643 ]\n",
      " [58.84184 ]\n",
      " [58.856976]\n",
      " [58.871742]\n",
      " [58.88597 ]]\n"
     ]
    }
   ],
   "source": [
    "print(predicted_prices)"
   ]
  },
  {
   "cell_type": "code",
   "execution_count": 13,
   "id": "dbc736d3-bab8-4804-809b-1a62af4259b2",
   "metadata": {},
   "outputs": [],
   "source": [
    "# This project has done here. Now we are able to predict price of Apple Inc. (AAPL) company.\n",
    "# Thank you"
   ]
  }
 ],
 "metadata": {
  "kernelspec": {
   "display_name": "Python 3 (ipykernel)",
   "language": "python",
   "name": "python3"
  },
  "language_info": {
   "codemirror_mode": {
    "name": "ipython",
    "version": 3
   },
   "file_extension": ".py",
   "mimetype": "text/x-python",
   "name": "python",
   "nbconvert_exporter": "python",
   "pygments_lexer": "ipython3",
   "version": "3.11.4"
  }
 },
 "nbformat": 4,
 "nbformat_minor": 5
}
